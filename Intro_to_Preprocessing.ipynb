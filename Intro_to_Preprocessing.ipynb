{
  "nbformat": 4,
  "nbformat_minor": 0,
  "metadata": {
    "colab": {
      "name": "Intro to Preprocessing",
      "provenance": [],
      "collapsed_sections": [],
      "machine_shape": "hm"
    },
    "kernelspec": {
      "name": "python3",
      "display_name": "Python 3"
    }
  },
  "cells": [
    {
      "cell_type": "markdown",
      "metadata": {
        "id": "pYNf6nDa6pnu",
        "colab_type": "text"
      },
      "source": [
        "# Workshop 1 ― Intro to Data Preprocessing"
      ]
    },
    {
      "cell_type": "markdown",
      "metadata": {
        "id": "0pwmr9zPZH1Y",
        "colab_type": "text"
      },
      "source": [
        "During this workshop, we will be looking at the relationship between the height and weight of various players, as well as try to predict their overall rating based on various features."
      ]
    },
    {
      "cell_type": "markdown",
      "metadata": {
        "id": "HgOe9z59H1U5",
        "colab_type": "text"
      },
      "source": [
        "##1. Importing Libraries"
      ]
    },
    {
      "cell_type": "code",
      "metadata": {
        "id": "_yzvNRo06g8A",
        "colab_type": "code",
        "colab": {}
      },
      "source": [
        "from sklearn.linear_model import LinearRegression # Model\n",
        "from sklearn.metrics import r2_score # Goodness of fit\n",
        "from sklearn.preprocessing import MinMaxScaler, PolynomialFeatures\n",
        "# data transformation, data augmentation\n",
        "\n",
        "import matplotlib.pyplot as plt # plotting\n",
        "import pandas as pd # data manipulation and analysis\n",
        "import numpy as np # numerical computation"
      ],
      "execution_count": 0,
      "outputs": []
    },
    {
      "cell_type": "markdown",
      "metadata": {
        "id": "zJTZlD4ZImT2",
        "colab_type": "text"
      },
      "source": [
        "## 2. Exploring the raw data"
      ]
    },
    {
      "cell_type": "markdown",
      "metadata": {
        "id": "d7HeS_eNAp6v",
        "colab_type": "text"
      },
      "source": [
        "Let's first look at the raw file.\n",
        "\n",
        "Pandas will automatically read the header for you."
      ]
    },
    {
      "cell_type": "code",
      "metadata": {
        "id": "I38kKG5shKFJ",
        "colab_type": "code",
        "colab": {}
      },
      "source": [
        "df = pd.read_csv('https://raw.githubusercontent.com/Symmetries/f2019workshop1/master/FullData.csv')"
      ],
      "execution_count": 0,
      "outputs": []
    },
    {
      "cell_type": "markdown",
      "metadata": {
        "id": "W-1C46mXlO6E",
        "colab_type": "text"
      },
      "source": [
        "We can then get a preview of the data by using the `head()` function"
      ]
    },
    {
      "cell_type": "code",
      "metadata": {
        "id": "1gyC0iwElPT1",
        "colab_type": "code",
        "outputId": "b23f87e4-ffaa-452b-ff82-543d1cd6dfd6",
        "colab": {
          "base_uri": "https://localhost:8080/",
          "height": 531
        }
      },
      "source": [
        "df.head(n = 10)"
      ],
      "execution_count": 0,
      "outputs": [
        {
          "output_type": "execute_result",
          "data": {
            "text/html": [
              "<div>\n",
              "<style scoped>\n",
              "    .dataframe tbody tr th:only-of-type {\n",
              "        vertical-align: middle;\n",
              "    }\n",
              "\n",
              "    .dataframe tbody tr th {\n",
              "        vertical-align: top;\n",
              "    }\n",
              "\n",
              "    .dataframe thead th {\n",
              "        text-align: right;\n",
              "    }\n",
              "</style>\n",
              "<table border=\"1\" class=\"dataframe\">\n",
              "  <thead>\n",
              "    <tr style=\"text-align: right;\">\n",
              "      <th></th>\n",
              "      <th>Name</th>\n",
              "      <th>Nationality</th>\n",
              "      <th>National_Position</th>\n",
              "      <th>National_Kit</th>\n",
              "      <th>Club</th>\n",
              "      <th>Club_Position</th>\n",
              "      <th>Club_Kit</th>\n",
              "      <th>Club_Joining</th>\n",
              "      <th>Contract_Expiry</th>\n",
              "      <th>Rating</th>\n",
              "      <th>Height</th>\n",
              "      <th>Weight</th>\n",
              "      <th>Preffered_Foot</th>\n",
              "      <th>Birth_Date</th>\n",
              "      <th>Age</th>\n",
              "      <th>Preffered_Position</th>\n",
              "      <th>Work_Rate</th>\n",
              "      <th>Weak_foot</th>\n",
              "      <th>Skill_Moves</th>\n",
              "      <th>Ball_Control</th>\n",
              "      <th>Dribbling</th>\n",
              "      <th>Marking</th>\n",
              "      <th>Sliding_Tackle</th>\n",
              "      <th>Standing_Tackle</th>\n",
              "      <th>Aggression</th>\n",
              "      <th>Reactions</th>\n",
              "      <th>Attacking_Position</th>\n",
              "      <th>Interceptions</th>\n",
              "      <th>Vision</th>\n",
              "      <th>Composure</th>\n",
              "      <th>Crossing</th>\n",
              "      <th>Short_Pass</th>\n",
              "      <th>Long_Pass</th>\n",
              "      <th>Acceleration</th>\n",
              "      <th>Speed</th>\n",
              "      <th>Stamina</th>\n",
              "      <th>Strength</th>\n",
              "      <th>Balance</th>\n",
              "      <th>Agility</th>\n",
              "      <th>Jumping</th>\n",
              "      <th>Heading</th>\n",
              "      <th>Shot_Power</th>\n",
              "      <th>Finishing</th>\n",
              "      <th>Long_Shots</th>\n",
              "      <th>Curve</th>\n",
              "      <th>Freekick_Accuracy</th>\n",
              "      <th>Penalties</th>\n",
              "      <th>Volleys</th>\n",
              "      <th>GK_Positioning</th>\n",
              "      <th>GK_Diving</th>\n",
              "      <th>GK_Kicking</th>\n",
              "      <th>GK_Handling</th>\n",
              "      <th>GK_Reflexes</th>\n",
              "    </tr>\n",
              "  </thead>\n",
              "  <tbody>\n",
              "    <tr>\n",
              "      <th>0</th>\n",
              "      <td>Cristiano Ronaldo</td>\n",
              "      <td>Portugal</td>\n",
              "      <td>LS</td>\n",
              "      <td>7.0</td>\n",
              "      <td>Real Madrid</td>\n",
              "      <td>LW</td>\n",
              "      <td>7.0</td>\n",
              "      <td>07/01/2009</td>\n",
              "      <td>2021.0</td>\n",
              "      <td>94.0</td>\n",
              "      <td>185 cm</td>\n",
              "      <td>80 kg</td>\n",
              "      <td>Right</td>\n",
              "      <td>02/05/1985</td>\n",
              "      <td>32.0</td>\n",
              "      <td>LW/ST</td>\n",
              "      <td>High / Low</td>\n",
              "      <td>4.0</td>\n",
              "      <td>5.0</td>\n",
              "      <td>93.0</td>\n",
              "      <td>92.0</td>\n",
              "      <td>22.0</td>\n",
              "      <td>23.0</td>\n",
              "      <td>31.0</td>\n",
              "      <td>63.0</td>\n",
              "      <td>96.0</td>\n",
              "      <td>94.0</td>\n",
              "      <td>29.0</td>\n",
              "      <td>85.0</td>\n",
              "      <td>86.0</td>\n",
              "      <td>84.0</td>\n",
              "      <td>83.0</td>\n",
              "      <td>77.0</td>\n",
              "      <td>91.0</td>\n",
              "      <td>92.0</td>\n",
              "      <td>92.0</td>\n",
              "      <td>80.0</td>\n",
              "      <td>63.0</td>\n",
              "      <td>90.0</td>\n",
              "      <td>95.0</td>\n",
              "      <td>85.0</td>\n",
              "      <td>92.0</td>\n",
              "      <td>93.0</td>\n",
              "      <td>90.0</td>\n",
              "      <td>81.0</td>\n",
              "      <td>76.0</td>\n",
              "      <td>85.0</td>\n",
              "      <td>88.0</td>\n",
              "      <td>14.0</td>\n",
              "      <td>7.0</td>\n",
              "      <td>15.0</td>\n",
              "      <td>11.0</td>\n",
              "      <td>11.0</td>\n",
              "    </tr>\n",
              "    <tr>\n",
              "      <th>1</th>\n",
              "      <td>Lionel Messi</td>\n",
              "      <td>argentina</td>\n",
              "      <td>RW</td>\n",
              "      <td>10.0</td>\n",
              "      <td>FC Barcelona</td>\n",
              "      <td>RW</td>\n",
              "      <td>10.0</td>\n",
              "      <td>07/01/2004</td>\n",
              "      <td>2018.0</td>\n",
              "      <td>93.0</td>\n",
              "      <td>170 cm</td>\n",
              "      <td>72 kg</td>\n",
              "      <td>Left</td>\n",
              "      <td>06/24/1987</td>\n",
              "      <td>29.0</td>\n",
              "      <td>RW</td>\n",
              "      <td>Medium / Medium</td>\n",
              "      <td>4.0</td>\n",
              "      <td>4.0</td>\n",
              "      <td>95.0</td>\n",
              "      <td>97.0</td>\n",
              "      <td>13.0</td>\n",
              "      <td>26.0</td>\n",
              "      <td>28.0</td>\n",
              "      <td>48.0</td>\n",
              "      <td>95.0</td>\n",
              "      <td>93.0</td>\n",
              "      <td>22.0</td>\n",
              "      <td>90.0</td>\n",
              "      <td>94.0</td>\n",
              "      <td>77.0</td>\n",
              "      <td>88.0</td>\n",
              "      <td>87.0</td>\n",
              "      <td>92.0</td>\n",
              "      <td>87.0</td>\n",
              "      <td>74.0</td>\n",
              "      <td>59.0</td>\n",
              "      <td>95.0</td>\n",
              "      <td>90.0</td>\n",
              "      <td>68.0</td>\n",
              "      <td>71.0</td>\n",
              "      <td>85.0</td>\n",
              "      <td>95.0</td>\n",
              "      <td>88.0</td>\n",
              "      <td>89.0</td>\n",
              "      <td>90.0</td>\n",
              "      <td>74.0</td>\n",
              "      <td>85.0</td>\n",
              "      <td>14.0</td>\n",
              "      <td>6.0</td>\n",
              "      <td>15.0</td>\n",
              "      <td>11.0</td>\n",
              "      <td>8.0</td>\n",
              "    </tr>\n",
              "    <tr>\n",
              "      <th>2</th>\n",
              "      <td>Neymar</td>\n",
              "      <td>BRAZIL</td>\n",
              "      <td>LW</td>\n",
              "      <td>10.0</td>\n",
              "      <td>FC Barcelona</td>\n",
              "      <td>LW</td>\n",
              "      <td>11.0</td>\n",
              "      <td>07/01/2013</td>\n",
              "      <td>2021.0</td>\n",
              "      <td>92.0</td>\n",
              "      <td>174 cm</td>\n",
              "      <td>68 kg</td>\n",
              "      <td>Right</td>\n",
              "      <td>02/05/1992</td>\n",
              "      <td>25.0</td>\n",
              "      <td>LW</td>\n",
              "      <td>High / Medium</td>\n",
              "      <td>5.0</td>\n",
              "      <td>5.0</td>\n",
              "      <td>95.0</td>\n",
              "      <td>96.0</td>\n",
              "      <td>21.0</td>\n",
              "      <td>33.0</td>\n",
              "      <td>24.0</td>\n",
              "      <td>56.0</td>\n",
              "      <td>88.0</td>\n",
              "      <td>90.0</td>\n",
              "      <td>36.0</td>\n",
              "      <td>80.0</td>\n",
              "      <td>80.0</td>\n",
              "      <td>75.0</td>\n",
              "      <td>81.0</td>\n",
              "      <td>75.0</td>\n",
              "      <td>93.0</td>\n",
              "      <td>90.0</td>\n",
              "      <td>79.0</td>\n",
              "      <td>49.0</td>\n",
              "      <td>82.0</td>\n",
              "      <td>96.0</td>\n",
              "      <td>61.0</td>\n",
              "      <td>62.0</td>\n",
              "      <td>78.0</td>\n",
              "      <td>89.0</td>\n",
              "      <td>77.0</td>\n",
              "      <td>79.0</td>\n",
              "      <td>84.0</td>\n",
              "      <td>81.0</td>\n",
              "      <td>83.0</td>\n",
              "      <td>15.0</td>\n",
              "      <td>9.0</td>\n",
              "      <td>15.0</td>\n",
              "      <td>9.0</td>\n",
              "      <td>11.0</td>\n",
              "    </tr>\n",
              "    <tr>\n",
              "      <th>3</th>\n",
              "      <td>Luis Suárez</td>\n",
              "      <td>Uruguay</td>\n",
              "      <td>LS</td>\n",
              "      <td>9.0</td>\n",
              "      <td>FC Barcelona</td>\n",
              "      <td>ST</td>\n",
              "      <td>9.0</td>\n",
              "      <td>07/11/2014</td>\n",
              "      <td>2021.0</td>\n",
              "      <td>92.0</td>\n",
              "      <td>182 cm</td>\n",
              "      <td>85 kg</td>\n",
              "      <td>Right</td>\n",
              "      <td>01/24/1987</td>\n",
              "      <td>30.0</td>\n",
              "      <td>ST</td>\n",
              "      <td>High / Medium</td>\n",
              "      <td>4.0</td>\n",
              "      <td>4.0</td>\n",
              "      <td>91.0</td>\n",
              "      <td>86.0</td>\n",
              "      <td>30.0</td>\n",
              "      <td>38.0</td>\n",
              "      <td>45.0</td>\n",
              "      <td>78.0</td>\n",
              "      <td>93.0</td>\n",
              "      <td>92.0</td>\n",
              "      <td>41.0</td>\n",
              "      <td>84.0</td>\n",
              "      <td>83.0</td>\n",
              "      <td>77.0</td>\n",
              "      <td>83.0</td>\n",
              "      <td>64.0</td>\n",
              "      <td>88.0</td>\n",
              "      <td>77.0</td>\n",
              "      <td>89.0</td>\n",
              "      <td>76.0</td>\n",
              "      <td>60.0</td>\n",
              "      <td>86.0</td>\n",
              "      <td>69.0</td>\n",
              "      <td>77.0</td>\n",
              "      <td>87.0</td>\n",
              "      <td>94.0</td>\n",
              "      <td>86.0</td>\n",
              "      <td>86.0</td>\n",
              "      <td>84.0</td>\n",
              "      <td>85.0</td>\n",
              "      <td>88.0</td>\n",
              "      <td>33.0</td>\n",
              "      <td>27.0</td>\n",
              "      <td>31.0</td>\n",
              "      <td>25.0</td>\n",
              "      <td>37.0</td>\n",
              "    </tr>\n",
              "    <tr>\n",
              "      <th>4</th>\n",
              "      <td>Manuel Neuer</td>\n",
              "      <td>germany</td>\n",
              "      <td>GK</td>\n",
              "      <td>1.0</td>\n",
              "      <td>FC Bayern</td>\n",
              "      <td>GK</td>\n",
              "      <td>1.0</td>\n",
              "      <td>07/01/2011</td>\n",
              "      <td>2021.0</td>\n",
              "      <td>92.0</td>\n",
              "      <td>193 cm</td>\n",
              "      <td>92 kg</td>\n",
              "      <td>Right</td>\n",
              "      <td>03/27/1986</td>\n",
              "      <td>31.0</td>\n",
              "      <td>GK</td>\n",
              "      <td>Medium / Medium</td>\n",
              "      <td>4.0</td>\n",
              "      <td>1.0</td>\n",
              "      <td>48.0</td>\n",
              "      <td>30.0</td>\n",
              "      <td>10.0</td>\n",
              "      <td>11.0</td>\n",
              "      <td>10.0</td>\n",
              "      <td>29.0</td>\n",
              "      <td>85.0</td>\n",
              "      <td>12.0</td>\n",
              "      <td>30.0</td>\n",
              "      <td>70.0</td>\n",
              "      <td>70.0</td>\n",
              "      <td>15.0</td>\n",
              "      <td>55.0</td>\n",
              "      <td>59.0</td>\n",
              "      <td>58.0</td>\n",
              "      <td>61.0</td>\n",
              "      <td>44.0</td>\n",
              "      <td>83.0</td>\n",
              "      <td>35.0</td>\n",
              "      <td>52.0</td>\n",
              "      <td>78.0</td>\n",
              "      <td>25.0</td>\n",
              "      <td>25.0</td>\n",
              "      <td>13.0</td>\n",
              "      <td>16.0</td>\n",
              "      <td>14.0</td>\n",
              "      <td>11.0</td>\n",
              "      <td>47.0</td>\n",
              "      <td>11.0</td>\n",
              "      <td>91.0</td>\n",
              "      <td>89.0</td>\n",
              "      <td>95.0</td>\n",
              "      <td>90.0</td>\n",
              "      <td>89.0</td>\n",
              "    </tr>\n",
              "    <tr>\n",
              "      <th>5</th>\n",
              "      <td>De Gea</td>\n",
              "      <td>Spain</td>\n",
              "      <td>GK</td>\n",
              "      <td>1.0</td>\n",
              "      <td>Manchester Utd</td>\n",
              "      <td>GK</td>\n",
              "      <td>1.0</td>\n",
              "      <td>07/01/2011</td>\n",
              "      <td>2019.0</td>\n",
              "      <td>90.0</td>\n",
              "      <td>193 cm</td>\n",
              "      <td>82 kg</td>\n",
              "      <td>Right</td>\n",
              "      <td>11/07/1990</td>\n",
              "      <td>26.0</td>\n",
              "      <td>GK</td>\n",
              "      <td>Medium / Medium</td>\n",
              "      <td>3.0</td>\n",
              "      <td>1.0</td>\n",
              "      <td>31.0</td>\n",
              "      <td>13.0</td>\n",
              "      <td>13.0</td>\n",
              "      <td>13.0</td>\n",
              "      <td>21.0</td>\n",
              "      <td>38.0</td>\n",
              "      <td>88.0</td>\n",
              "      <td>12.0</td>\n",
              "      <td>30.0</td>\n",
              "      <td>68.0</td>\n",
              "      <td>60.0</td>\n",
              "      <td>17.0</td>\n",
              "      <td>31.0</td>\n",
              "      <td>32.0</td>\n",
              "      <td>56.0</td>\n",
              "      <td>56.0</td>\n",
              "      <td>25.0</td>\n",
              "      <td>64.0</td>\n",
              "      <td>43.0</td>\n",
              "      <td>57.0</td>\n",
              "      <td>67.0</td>\n",
              "      <td>21.0</td>\n",
              "      <td>31.0</td>\n",
              "      <td>13.0</td>\n",
              "      <td>12.0</td>\n",
              "      <td>21.0</td>\n",
              "      <td>19.0</td>\n",
              "      <td>40.0</td>\n",
              "      <td>13.0</td>\n",
              "      <td>86.0</td>\n",
              "      <td>88.0</td>\n",
              "      <td>87.0</td>\n",
              "      <td>85.0</td>\n",
              "      <td>90.0</td>\n",
              "    </tr>\n",
              "    <tr>\n",
              "      <th>6</th>\n",
              "      <td>Robert Lewandowski</td>\n",
              "      <td>poland</td>\n",
              "      <td>LS</td>\n",
              "      <td>9.0</td>\n",
              "      <td>FC Bayern</td>\n",
              "      <td>ST</td>\n",
              "      <td>9.0</td>\n",
              "      <td>07/01/2014</td>\n",
              "      <td>2021.0</td>\n",
              "      <td>90.0</td>\n",
              "      <td>185 cm</td>\n",
              "      <td>79 kg</td>\n",
              "      <td>Right</td>\n",
              "      <td>08/21/1988</td>\n",
              "      <td>28.0</td>\n",
              "      <td>ST</td>\n",
              "      <td>High / Medium</td>\n",
              "      <td>4.0</td>\n",
              "      <td>3.0</td>\n",
              "      <td>87.0</td>\n",
              "      <td>85.0</td>\n",
              "      <td>25.0</td>\n",
              "      <td>19.0</td>\n",
              "      <td>42.0</td>\n",
              "      <td>80.0</td>\n",
              "      <td>88.0</td>\n",
              "      <td>89.0</td>\n",
              "      <td>39.0</td>\n",
              "      <td>78.0</td>\n",
              "      <td>87.0</td>\n",
              "      <td>62.0</td>\n",
              "      <td>83.0</td>\n",
              "      <td>65.0</td>\n",
              "      <td>79.0</td>\n",
              "      <td>82.0</td>\n",
              "      <td>79.0</td>\n",
              "      <td>84.0</td>\n",
              "      <td>79.0</td>\n",
              "      <td>78.0</td>\n",
              "      <td>84.0</td>\n",
              "      <td>85.0</td>\n",
              "      <td>86.0</td>\n",
              "      <td>91.0</td>\n",
              "      <td>82.0</td>\n",
              "      <td>77.0</td>\n",
              "      <td>76.0</td>\n",
              "      <td>81.0</td>\n",
              "      <td>86.0</td>\n",
              "      <td>8.0</td>\n",
              "      <td>15.0</td>\n",
              "      <td>12.0</td>\n",
              "      <td>6.0</td>\n",
              "      <td>10.0</td>\n",
              "    </tr>\n",
              "    <tr>\n",
              "      <th>7</th>\n",
              "      <td>Gareth Bale</td>\n",
              "      <td>wales</td>\n",
              "      <td>RS</td>\n",
              "      <td>11.0</td>\n",
              "      <td>Real Madrid</td>\n",
              "      <td>RW</td>\n",
              "      <td>11.0</td>\n",
              "      <td>09/02/2013</td>\n",
              "      <td>2022.0</td>\n",
              "      <td>90.0</td>\n",
              "      <td>183 cm</td>\n",
              "      <td>74 kg</td>\n",
              "      <td>Left</td>\n",
              "      <td>07/16/1989</td>\n",
              "      <td>27.0</td>\n",
              "      <td>RW</td>\n",
              "      <td>High / Medium</td>\n",
              "      <td>3.0</td>\n",
              "      <td>4.0</td>\n",
              "      <td>88.0</td>\n",
              "      <td>89.0</td>\n",
              "      <td>51.0</td>\n",
              "      <td>52.0</td>\n",
              "      <td>55.0</td>\n",
              "      <td>65.0</td>\n",
              "      <td>87.0</td>\n",
              "      <td>86.0</td>\n",
              "      <td>59.0</td>\n",
              "      <td>79.0</td>\n",
              "      <td>85.0</td>\n",
              "      <td>87.0</td>\n",
              "      <td>86.0</td>\n",
              "      <td>80.0</td>\n",
              "      <td>93.0</td>\n",
              "      <td>95.0</td>\n",
              "      <td>78.0</td>\n",
              "      <td>80.0</td>\n",
              "      <td>65.0</td>\n",
              "      <td>77.0</td>\n",
              "      <td>85.0</td>\n",
              "      <td>86.0</td>\n",
              "      <td>91.0</td>\n",
              "      <td>87.0</td>\n",
              "      <td>90.0</td>\n",
              "      <td>86.0</td>\n",
              "      <td>85.0</td>\n",
              "      <td>76.0</td>\n",
              "      <td>76.0</td>\n",
              "      <td>5.0</td>\n",
              "      <td>15.0</td>\n",
              "      <td>11.0</td>\n",
              "      <td>15.0</td>\n",
              "      <td>6.0</td>\n",
              "    </tr>\n",
              "    <tr>\n",
              "      <th>8</th>\n",
              "      <td>NaN</td>\n",
              "      <td>NaN</td>\n",
              "      <td>NaN</td>\n",
              "      <td>NaN</td>\n",
              "      <td>NaN</td>\n",
              "      <td>NaN</td>\n",
              "      <td>NaN</td>\n",
              "      <td>NaN</td>\n",
              "      <td>NaN</td>\n",
              "      <td>NaN</td>\n",
              "      <td>NaN</td>\n",
              "      <td>NaN</td>\n",
              "      <td>NaN</td>\n",
              "      <td>NaN</td>\n",
              "      <td>NaN</td>\n",
              "      <td>NaN</td>\n",
              "      <td>NaN</td>\n",
              "      <td>NaN</td>\n",
              "      <td>NaN</td>\n",
              "      <td>NaN</td>\n",
              "      <td>NaN</td>\n",
              "      <td>NaN</td>\n",
              "      <td>NaN</td>\n",
              "      <td>NaN</td>\n",
              "      <td>NaN</td>\n",
              "      <td>NaN</td>\n",
              "      <td>NaN</td>\n",
              "      <td>NaN</td>\n",
              "      <td>NaN</td>\n",
              "      <td>NaN</td>\n",
              "      <td>NaN</td>\n",
              "      <td>NaN</td>\n",
              "      <td>NaN</td>\n",
              "      <td>NaN</td>\n",
              "      <td>NaN</td>\n",
              "      <td>NaN</td>\n",
              "      <td>NaN</td>\n",
              "      <td>NaN</td>\n",
              "      <td>NaN</td>\n",
              "      <td>NaN</td>\n",
              "      <td>NaN</td>\n",
              "      <td>NaN</td>\n",
              "      <td>NaN</td>\n",
              "      <td>NaN</td>\n",
              "      <td>NaN</td>\n",
              "      <td>NaN</td>\n",
              "      <td>NaN</td>\n",
              "      <td>NaN</td>\n",
              "      <td>NaN</td>\n",
              "      <td>NaN</td>\n",
              "      <td>NaN</td>\n",
              "      <td>NaN</td>\n",
              "      <td>NaN</td>\n",
              "    </tr>\n",
              "    <tr>\n",
              "      <th>9</th>\n",
              "      <td>Thibaut Courtois</td>\n",
              "      <td>Belgium</td>\n",
              "      <td>GK</td>\n",
              "      <td>1.0</td>\n",
              "      <td>Chelsea</td>\n",
              "      <td>GK</td>\n",
              "      <td>13.0</td>\n",
              "      <td>07/26/2011</td>\n",
              "      <td>2019.0</td>\n",
              "      <td>89.0</td>\n",
              "      <td>199 cm</td>\n",
              "      <td>91 kg</td>\n",
              "      <td>Left</td>\n",
              "      <td>05/11/1992</td>\n",
              "      <td>24.0</td>\n",
              "      <td>GK</td>\n",
              "      <td>Medium / Medium</td>\n",
              "      <td>3.0</td>\n",
              "      <td>1.0</td>\n",
              "      <td>23.0</td>\n",
              "      <td>13.0</td>\n",
              "      <td>11.0</td>\n",
              "      <td>16.0</td>\n",
              "      <td>18.0</td>\n",
              "      <td>23.0</td>\n",
              "      <td>81.0</td>\n",
              "      <td>13.0</td>\n",
              "      <td>15.0</td>\n",
              "      <td>44.0</td>\n",
              "      <td>52.0</td>\n",
              "      <td>14.0</td>\n",
              "      <td>32.0</td>\n",
              "      <td>31.0</td>\n",
              "      <td>46.0</td>\n",
              "      <td>52.0</td>\n",
              "      <td>38.0</td>\n",
              "      <td>70.0</td>\n",
              "      <td>45.0</td>\n",
              "      <td>61.0</td>\n",
              "      <td>68.0</td>\n",
              "      <td>13.0</td>\n",
              "      <td>36.0</td>\n",
              "      <td>14.0</td>\n",
              "      <td>17.0</td>\n",
              "      <td>19.0</td>\n",
              "      <td>11.0</td>\n",
              "      <td>27.0</td>\n",
              "      <td>12.0</td>\n",
              "      <td>86.0</td>\n",
              "      <td>84.0</td>\n",
              "      <td>69.0</td>\n",
              "      <td>91.0</td>\n",
              "      <td>89.0</td>\n",
              "    </tr>\n",
              "  </tbody>\n",
              "</table>\n",
              "</div>"
            ],
            "text/plain": [
              "                 Name Nationality  ... GK_Handling  GK_Reflexes\n",
              "0   Cristiano Ronaldo    Portugal  ...        11.0         11.0\n",
              "1        Lionel Messi   argentina  ...        11.0          8.0\n",
              "2              Neymar      BRAZIL  ...         9.0         11.0\n",
              "3         Luis Suárez     Uruguay  ...        25.0         37.0\n",
              "4        Manuel Neuer     germany  ...        90.0         89.0\n",
              "5              De Gea       Spain  ...        85.0         90.0\n",
              "6  Robert Lewandowski      poland  ...         6.0         10.0\n",
              "7         Gareth Bale       wales  ...        15.0          6.0\n",
              "8                 NaN         NaN  ...         NaN          NaN\n",
              "9    Thibaut Courtois     Belgium  ...        91.0         89.0\n",
              "\n",
              "[10 rows x 53 columns]"
            ]
          },
          "metadata": {
            "tags": []
          },
          "execution_count": 4
        }
      ]
    },
    {
      "cell_type": "markdown",
      "metadata": {
        "id": "sXP_sjm1oNgT",
        "colab_type": "text"
      },
      "source": [
        "We observe that in row 8, the data is not available. This can happen and there are many ways to deal with it.\n",
        "\n",
        "- If the entire row is empty, we will usually get rid of the row entirely.\n",
        "\n",
        "\n",
        "Sometimes, if only a few values are missing we can:\n",
        "1. replace the value with the mean of this feature. For example, use the average of all player's weight\n",
        "2. replace the value with the mean, with respect to another feature. For example, we can replace the average height of a player by the average height of players of the same country\n",
        "3. remove the entire row (we should try to limit this if your dataset is quite small)"
      ]
    },
    {
      "cell_type": "code",
      "metadata": {
        "id": "CIP7ZJUsoNRb",
        "colab_type": "code",
        "colab": {}
      },
      "source": [
        "# remove the rows with non available data in place\n",
        "df.dropna(inplace = True, how = 'all')"
      ],
      "execution_count": 0,
      "outputs": []
    },
    {
      "cell_type": "markdown",
      "metadata": {
        "id": "Lemoti8_k9ge",
        "colab_type": "text"
      },
      "source": [
        "Using pandas, you can look at the shape of your data (number of columns and rows)\n",
        "\n",
        "In this case, our data has 53 features (columns) and 15838 data points (rows)"
      ]
    },
    {
      "cell_type": "code",
      "metadata": {
        "id": "sFs9cA4Zk97W",
        "colab_type": "code",
        "outputId": "daf41a95-7bd8-46c3-bbe2-7feed84a1af2",
        "colab": {
          "base_uri": "https://localhost:8080/",
          "height": 36
        }
      },
      "source": [
        "# View the shape of the data\n",
        "df.shape"
      ],
      "execution_count": 0,
      "outputs": [
        {
          "output_type": "execute_result",
          "data": {
            "text/plain": [
              "(15838, 53)"
            ]
          },
          "metadata": {
            "tags": []
          },
          "execution_count": 6
        }
      ]
    },
    {
      "cell_type": "markdown",
      "metadata": {
        "id": "TNdDhfYKj-m-",
        "colab_type": "text"
      },
      "source": [
        "### 2.1 Some stats about the data\n",
        "\n",
        "You can use the `describe` function to get a good overview of you data.\n",
        "\n",
        "The default `describe()` only shows numerical values\n",
        "\n",
        "```\n",
        "Generate descriptive statistics that summarize the central tendency, dispersion and shape of a dataset’s distribution, excluding NaN values.\n",
        "```"
      ]
    },
    {
      "cell_type": "code",
      "metadata": {
        "id": "h8iayqaZhM2E",
        "colab_type": "code",
        "outputId": "4f4de7ee-7fb8-4ade-e7c8-3a5c4ead708e",
        "colab": {
          "base_uri": "https://localhost:8080/",
          "height": 314
        }
      },
      "source": [
        "df.describe()"
      ],
      "execution_count": 0,
      "outputs": [
        {
          "output_type": "execute_result",
          "data": {
            "text/html": [
              "<div>\n",
              "<style scoped>\n",
              "    .dataframe tbody tr th:only-of-type {\n",
              "        vertical-align: middle;\n",
              "    }\n",
              "\n",
              "    .dataframe tbody tr th {\n",
              "        vertical-align: top;\n",
              "    }\n",
              "\n",
              "    .dataframe thead th {\n",
              "        text-align: right;\n",
              "    }\n",
              "</style>\n",
              "<table border=\"1\" class=\"dataframe\">\n",
              "  <thead>\n",
              "    <tr style=\"text-align: right;\">\n",
              "      <th></th>\n",
              "      <th>National_Kit</th>\n",
              "      <th>Club_Kit</th>\n",
              "      <th>Contract_Expiry</th>\n",
              "      <th>Rating</th>\n",
              "      <th>Age</th>\n",
              "      <th>Weak_foot</th>\n",
              "      <th>Skill_Moves</th>\n",
              "      <th>Ball_Control</th>\n",
              "      <th>Dribbling</th>\n",
              "      <th>Marking</th>\n",
              "      <th>Sliding_Tackle</th>\n",
              "      <th>Standing_Tackle</th>\n",
              "      <th>Aggression</th>\n",
              "      <th>Reactions</th>\n",
              "      <th>Attacking_Position</th>\n",
              "      <th>Interceptions</th>\n",
              "      <th>Vision</th>\n",
              "      <th>Composure</th>\n",
              "      <th>Crossing</th>\n",
              "      <th>Short_Pass</th>\n",
              "      <th>Long_Pass</th>\n",
              "      <th>Acceleration</th>\n",
              "      <th>Speed</th>\n",
              "      <th>Stamina</th>\n",
              "      <th>Strength</th>\n",
              "      <th>Balance</th>\n",
              "      <th>Agility</th>\n",
              "      <th>Jumping</th>\n",
              "      <th>Heading</th>\n",
              "      <th>Shot_Power</th>\n",
              "      <th>Finishing</th>\n",
              "      <th>Long_Shots</th>\n",
              "      <th>Curve</th>\n",
              "      <th>Freekick_Accuracy</th>\n",
              "      <th>Penalties</th>\n",
              "      <th>Volleys</th>\n",
              "      <th>GK_Positioning</th>\n",
              "      <th>GK_Diving</th>\n",
              "      <th>GK_Kicking</th>\n",
              "      <th>GK_Handling</th>\n",
              "      <th>GK_Reflexes</th>\n",
              "    </tr>\n",
              "  </thead>\n",
              "  <tbody>\n",
              "    <tr>\n",
              "      <th>count</th>\n",
              "      <td>993.000000</td>\n",
              "      <td>15829.000000</td>\n",
              "      <td>15829.000000</td>\n",
              "      <td>15829.000000</td>\n",
              "      <td>15829.000000</td>\n",
              "      <td>15829.000000</td>\n",
              "      <td>15829.000000</td>\n",
              "      <td>15829.000000</td>\n",
              "      <td>15829.000000</td>\n",
              "      <td>15829.000000</td>\n",
              "      <td>15829.000000</td>\n",
              "      <td>15829.000000</td>\n",
              "      <td>15829.000000</td>\n",
              "      <td>15829.000000</td>\n",
              "      <td>15829.000000</td>\n",
              "      <td>15829.000000</td>\n",
              "      <td>15829.000000</td>\n",
              "      <td>15829.000000</td>\n",
              "      <td>15829.000000</td>\n",
              "      <td>15829.000000</td>\n",
              "      <td>15829.000000</td>\n",
              "      <td>15829.000000</td>\n",
              "      <td>15829.000000</td>\n",
              "      <td>15829.000000</td>\n",
              "      <td>15829.000000</td>\n",
              "      <td>15829.000000</td>\n",
              "      <td>15829.000000</td>\n",
              "      <td>15829.000000</td>\n",
              "      <td>15829.000000</td>\n",
              "      <td>15829.000000</td>\n",
              "      <td>15829.000000</td>\n",
              "      <td>15829.000000</td>\n",
              "      <td>15829.000000</td>\n",
              "      <td>15829.000000</td>\n",
              "      <td>15829.000000</td>\n",
              "      <td>15829.000000</td>\n",
              "      <td>15829.000000</td>\n",
              "      <td>15829.00000</td>\n",
              "      <td>15829.000000</td>\n",
              "      <td>15829.000000</td>\n",
              "      <td>15829.000000</td>\n",
              "    </tr>\n",
              "    <tr>\n",
              "      <th>mean</th>\n",
              "      <td>12.101712</td>\n",
              "      <td>21.310759</td>\n",
              "      <td>2018.908649</td>\n",
              "      <td>66.189715</td>\n",
              "      <td>25.479373</td>\n",
              "      <td>2.931455</td>\n",
              "      <td>2.302609</td>\n",
              "      <td>57.962663</td>\n",
              "      <td>54.787605</td>\n",
              "      <td>44.261735</td>\n",
              "      <td>45.581275</td>\n",
              "      <td>47.453598</td>\n",
              "      <td>55.955904</td>\n",
              "      <td>61.797713</td>\n",
              "      <td>49.609072</td>\n",
              "      <td>46.811548</td>\n",
              "      <td>52.719565</td>\n",
              "      <td>55.840230</td>\n",
              "      <td>49.781035</td>\n",
              "      <td>58.118833</td>\n",
              "      <td>52.400467</td>\n",
              "      <td>65.291048</td>\n",
              "      <td>65.495230</td>\n",
              "      <td>63.510329</td>\n",
              "      <td>65.078211</td>\n",
              "      <td>64.042201</td>\n",
              "      <td>63.215427</td>\n",
              "      <td>64.963043</td>\n",
              "      <td>52.442100</td>\n",
              "      <td>55.568198</td>\n",
              "      <td>45.127930</td>\n",
              "      <td>47.381641</td>\n",
              "      <td>47.174932</td>\n",
              "      <td>43.346642</td>\n",
              "      <td>49.160023</td>\n",
              "      <td>43.263125</td>\n",
              "      <td>16.657780</td>\n",
              "      <td>16.86291</td>\n",
              "      <td>16.512098</td>\n",
              "      <td>16.585634</td>\n",
              "      <td>16.951797</td>\n",
              "    </tr>\n",
              "    <tr>\n",
              "      <th>std</th>\n",
              "      <td>6.885785</td>\n",
              "      <td>19.243240</td>\n",
              "      <td>1.703990</td>\n",
              "      <td>7.072994</td>\n",
              "      <td>4.672335</td>\n",
              "      <td>0.654905</td>\n",
              "      <td>0.745490</td>\n",
              "      <td>16.849564</td>\n",
              "      <td>18.922791</td>\n",
              "      <td>21.592307</td>\n",
              "      <td>21.547188</td>\n",
              "      <td>21.872666</td>\n",
              "      <td>17.435551</td>\n",
              "      <td>9.287194</td>\n",
              "      <td>19.429543</td>\n",
              "      <td>20.510457</td>\n",
              "      <td>14.575274</td>\n",
              "      <td>13.480573</td>\n",
              "      <td>18.481320</td>\n",
              "      <td>14.994973</td>\n",
              "      <td>15.630669</td>\n",
              "      <td>14.464208</td>\n",
              "      <td>14.148891</td>\n",
              "      <td>15.501733</td>\n",
              "      <td>12.527188</td>\n",
              "      <td>13.707700</td>\n",
              "      <td>14.608256</td>\n",
              "      <td>11.421252</td>\n",
              "      <td>17.498161</td>\n",
              "      <td>17.645821</td>\n",
              "      <td>19.392583</td>\n",
              "      <td>19.237485</td>\n",
              "      <td>18.475706</td>\n",
              "      <td>17.702297</td>\n",
              "      <td>15.897296</td>\n",
              "      <td>17.743966</td>\n",
              "      <td>17.174224</td>\n",
              "      <td>17.84864</td>\n",
              "      <td>16.646598</td>\n",
              "      <td>17.001355</td>\n",
              "      <td>18.091151</td>\n",
              "    </tr>\n",
              "    <tr>\n",
              "      <th>min</th>\n",
              "      <td>1.000000</td>\n",
              "      <td>1.000000</td>\n",
              "      <td>2017.000000</td>\n",
              "      <td>45.000000</td>\n",
              "      <td>17.000000</td>\n",
              "      <td>1.000000</td>\n",
              "      <td>1.000000</td>\n",
              "      <td>5.000000</td>\n",
              "      <td>4.000000</td>\n",
              "      <td>3.000000</td>\n",
              "      <td>5.000000</td>\n",
              "      <td>3.000000</td>\n",
              "      <td>2.000000</td>\n",
              "      <td>29.000000</td>\n",
              "      <td>2.000000</td>\n",
              "      <td>3.000000</td>\n",
              "      <td>10.000000</td>\n",
              "      <td>5.000000</td>\n",
              "      <td>6.000000</td>\n",
              "      <td>10.000000</td>\n",
              "      <td>9.000000</td>\n",
              "      <td>11.000000</td>\n",
              "      <td>11.000000</td>\n",
              "      <td>10.000000</td>\n",
              "      <td>20.000000</td>\n",
              "      <td>11.000000</td>\n",
              "      <td>11.000000</td>\n",
              "      <td>15.000000</td>\n",
              "      <td>4.000000</td>\n",
              "      <td>3.000000</td>\n",
              "      <td>2.000000</td>\n",
              "      <td>4.000000</td>\n",
              "      <td>6.000000</td>\n",
              "      <td>4.000000</td>\n",
              "      <td>7.000000</td>\n",
              "      <td>3.000000</td>\n",
              "      <td>1.000000</td>\n",
              "      <td>1.00000</td>\n",
              "      <td>1.000000</td>\n",
              "      <td>1.000000</td>\n",
              "      <td>1.000000</td>\n",
              "    </tr>\n",
              "    <tr>\n",
              "      <th>25%</th>\n",
              "      <td>6.000000</td>\n",
              "      <td>9.000000</td>\n",
              "      <td>2017.000000</td>\n",
              "      <td>62.000000</td>\n",
              "      <td>22.000000</td>\n",
              "      <td>3.000000</td>\n",
              "      <td>2.000000</td>\n",
              "      <td>53.000000</td>\n",
              "      <td>47.000000</td>\n",
              "      <td>22.000000</td>\n",
              "      <td>23.000000</td>\n",
              "      <td>26.000000</td>\n",
              "      <td>44.000000</td>\n",
              "      <td>55.000000</td>\n",
              "      <td>37.000000</td>\n",
              "      <td>26.000000</td>\n",
              "      <td>43.000000</td>\n",
              "      <td>47.000000</td>\n",
              "      <td>38.000000</td>\n",
              "      <td>52.000000</td>\n",
              "      <td>42.000000</td>\n",
              "      <td>57.000000</td>\n",
              "      <td>58.000000</td>\n",
              "      <td>57.000000</td>\n",
              "      <td>57.000000</td>\n",
              "      <td>56.000000</td>\n",
              "      <td>55.000000</td>\n",
              "      <td>58.000000</td>\n",
              "      <td>45.000000</td>\n",
              "      <td>45.000000</td>\n",
              "      <td>29.000000</td>\n",
              "      <td>32.000000</td>\n",
              "      <td>34.000000</td>\n",
              "      <td>31.000000</td>\n",
              "      <td>39.000000</td>\n",
              "      <td>30.000000</td>\n",
              "      <td>8.000000</td>\n",
              "      <td>8.00000</td>\n",
              "      <td>8.000000</td>\n",
              "      <td>8.000000</td>\n",
              "      <td>8.000000</td>\n",
              "    </tr>\n",
              "    <tr>\n",
              "      <th>50%</th>\n",
              "      <td>12.000000</td>\n",
              "      <td>18.000000</td>\n",
              "      <td>2019.000000</td>\n",
              "      <td>66.000000</td>\n",
              "      <td>25.000000</td>\n",
              "      <td>3.000000</td>\n",
              "      <td>2.000000</td>\n",
              "      <td>62.000000</td>\n",
              "      <td>60.000000</td>\n",
              "      <td>48.000000</td>\n",
              "      <td>52.000000</td>\n",
              "      <td>54.000000</td>\n",
              "      <td>59.000000</td>\n",
              "      <td>62.000000</td>\n",
              "      <td>54.000000</td>\n",
              "      <td>52.000000</td>\n",
              "      <td>54.000000</td>\n",
              "      <td>57.000000</td>\n",
              "      <td>54.000000</td>\n",
              "      <td>62.000000</td>\n",
              "      <td>56.000000</td>\n",
              "      <td>68.000000</td>\n",
              "      <td>68.000000</td>\n",
              "      <td>66.000000</td>\n",
              "      <td>66.000000</td>\n",
              "      <td>65.000000</td>\n",
              "      <td>65.000000</td>\n",
              "      <td>65.000000</td>\n",
              "      <td>56.000000</td>\n",
              "      <td>59.000000</td>\n",
              "      <td>48.000000</td>\n",
              "      <td>52.000000</td>\n",
              "      <td>48.000000</td>\n",
              "      <td>42.000000</td>\n",
              "      <td>50.000000</td>\n",
              "      <td>44.000000</td>\n",
              "      <td>11.000000</td>\n",
              "      <td>11.00000</td>\n",
              "      <td>11.000000</td>\n",
              "      <td>11.000000</td>\n",
              "      <td>11.000000</td>\n",
              "    </tr>\n",
              "    <tr>\n",
              "      <th>75%</th>\n",
              "      <td>18.000000</td>\n",
              "      <td>27.000000</td>\n",
              "      <td>2020.000000</td>\n",
              "      <td>71.000000</td>\n",
              "      <td>29.000000</td>\n",
              "      <td>3.000000</td>\n",
              "      <td>3.000000</td>\n",
              "      <td>69.000000</td>\n",
              "      <td>68.000000</td>\n",
              "      <td>64.000000</td>\n",
              "      <td>64.000000</td>\n",
              "      <td>66.000000</td>\n",
              "      <td>70.000000</td>\n",
              "      <td>68.000000</td>\n",
              "      <td>64.000000</td>\n",
              "      <td>64.000000</td>\n",
              "      <td>64.000000</td>\n",
              "      <td>66.000000</td>\n",
              "      <td>64.000000</td>\n",
              "      <td>68.000000</td>\n",
              "      <td>64.000000</td>\n",
              "      <td>75.000000</td>\n",
              "      <td>75.000000</td>\n",
              "      <td>74.000000</td>\n",
              "      <td>74.000000</td>\n",
              "      <td>74.000000</td>\n",
              "      <td>74.000000</td>\n",
              "      <td>73.000000</td>\n",
              "      <td>65.000000</td>\n",
              "      <td>69.000000</td>\n",
              "      <td>61.000000</td>\n",
              "      <td>63.000000</td>\n",
              "      <td>62.000000</td>\n",
              "      <td>57.000000</td>\n",
              "      <td>61.000000</td>\n",
              "      <td>57.000000</td>\n",
              "      <td>14.000000</td>\n",
              "      <td>14.00000</td>\n",
              "      <td>14.000000</td>\n",
              "      <td>14.000000</td>\n",
              "      <td>14.000000</td>\n",
              "    </tr>\n",
              "    <tr>\n",
              "      <th>max</th>\n",
              "      <td>36.000000</td>\n",
              "      <td>99.000000</td>\n",
              "      <td>2023.000000</td>\n",
              "      <td>94.000000</td>\n",
              "      <td>47.000000</td>\n",
              "      <td>5.000000</td>\n",
              "      <td>5.000000</td>\n",
              "      <td>95.000000</td>\n",
              "      <td>97.000000</td>\n",
              "      <td>92.000000</td>\n",
              "      <td>95.000000</td>\n",
              "      <td>92.000000</td>\n",
              "      <td>96.000000</td>\n",
              "      <td>96.000000</td>\n",
              "      <td>94.000000</td>\n",
              "      <td>93.000000</td>\n",
              "      <td>94.000000</td>\n",
              "      <td>94.000000</td>\n",
              "      <td>91.000000</td>\n",
              "      <td>92.000000</td>\n",
              "      <td>93.000000</td>\n",
              "      <td>96.000000</td>\n",
              "      <td>96.000000</td>\n",
              "      <td>95.000000</td>\n",
              "      <td>98.000000</td>\n",
              "      <td>97.000000</td>\n",
              "      <td>96.000000</td>\n",
              "      <td>95.000000</td>\n",
              "      <td>94.000000</td>\n",
              "      <td>92.000000</td>\n",
              "      <td>95.000000</td>\n",
              "      <td>91.000000</td>\n",
              "      <td>92.000000</td>\n",
              "      <td>93.000000</td>\n",
              "      <td>96.000000</td>\n",
              "      <td>91.000000</td>\n",
              "      <td>91.000000</td>\n",
              "      <td>89.00000</td>\n",
              "      <td>95.000000</td>\n",
              "      <td>91.000000</td>\n",
              "      <td>90.000000</td>\n",
              "    </tr>\n",
              "  </tbody>\n",
              "</table>\n",
              "</div>"
            ],
            "text/plain": [
              "       National_Kit      Club_Kit  ...   GK_Handling   GK_Reflexes\n",
              "count    993.000000  15829.000000  ...  15829.000000  15829.000000\n",
              "mean      12.101712     21.310759  ...     16.585634     16.951797\n",
              "std        6.885785     19.243240  ...     17.001355     18.091151\n",
              "min        1.000000      1.000000  ...      1.000000      1.000000\n",
              "25%        6.000000      9.000000  ...      8.000000      8.000000\n",
              "50%       12.000000     18.000000  ...     11.000000     11.000000\n",
              "75%       18.000000     27.000000  ...     14.000000     14.000000\n",
              "max       36.000000     99.000000  ...     91.000000     90.000000\n",
              "\n",
              "[8 rows x 41 columns]"
            ]
          },
          "metadata": {
            "tags": []
          },
          "execution_count": 7
        }
      ]
    },
    {
      "cell_type": "markdown",
      "metadata": {
        "id": "h9n1Vf2UkxWQ",
        "colab_type": "text"
      },
      "source": [
        "Pandas also offers various functions to get information about your data, such as histograms\n",
        "\n",
        "```\n",
        "A histogram is a representation of the distribution of data. This function calls matplotlib.pyplot.hist(), on each series in the DataFrame, resulting in one histogram per column.\n",
        "```"
      ]
    },
    {
      "cell_type": "code",
      "metadata": {
        "id": "TR5J0P5VkxKw",
        "colab_type": "code",
        "outputId": "3b5ab48c-0871-4746-a443-a2ed4f40f85e",
        "colab": {
          "base_uri": "https://localhost:8080/",
          "height": 1000
        }
      },
      "source": [
        "df.hist(figsize = (14,16))\n",
        "plt.tight_layout()"
      ],
      "execution_count": 0,
      "outputs": [
        {
          "output_type": "display_data",
          "data": {
            "image/png": "[encoded data removed]",
            "text/plain": [
              "<Figure size 1008x1152 with 42 Axes>"
            ]
          },
          "metadata": {
            "tags": []
          }
        }
      ]
    },
    {
      "cell_type": "markdown",
      "metadata": {
        "id": "CuSPOc31ZCmB",
        "colab_type": "text"
      },
      "source": [
        "### 2.2 Looking at specific columns"
      ]
    },
    {
      "cell_type": "markdown",
      "metadata": {
        "id": "MjRhb9OVkQ0y",
        "colab_type": "text"
      },
      "source": [
        "We can also view the various types of features(columns) in our data.\n",
        "\n",
        "The data can be messy, so using this function can help you check which columns are numerical or strings. \n",
        "\n",
        "In our case, we notice that `Height` and `Weight` are oddly not numerical, but objects."
      ]
    },
    {
      "cell_type": "code",
      "metadata": {
        "id": "mmBsNc95kWNQ",
        "colab_type": "code",
        "outputId": "132dc63d-c8cc-49d6-d0f4-9ed2d39a17b0",
        "colab": {
          "base_uri": "https://localhost:8080/",
          "height": 1000
        }
      },
      "source": [
        "df.dtypes"
      ],
      "execution_count": 0,
      "outputs": [
        {
          "output_type": "execute_result",
          "data": {
            "text/plain": [
              "Name                   object\n",
              "Nationality            object\n",
              "National_Position      object\n",
              "National_Kit          float64\n",
              "Club                   object\n",
              "Club_Position          object\n",
              "Club_Kit              float64\n",
              "Club_Joining           object\n",
              "Contract_Expiry       float64\n",
              "Rating                float64\n",
              "Height                 object\n",
              "Weight                 object\n",
              "Preffered_Foot         object\n",
              "Birth_Date             object\n",
              "Age                   float64\n",
              "Preffered_Position     object\n",
              "Work_Rate              object\n",
              "Weak_foot             float64\n",
              "Skill_Moves           float64\n",
              "Ball_Control          float64\n",
              "Dribbling             float64\n",
              "Marking               float64\n",
              "Sliding_Tackle        float64\n",
              "Standing_Tackle       float64\n",
              "Aggression            float64\n",
              "Reactions             float64\n",
              "Attacking_Position    float64\n",
              "Interceptions         float64\n",
              "Vision                float64\n",
              "Composure             float64\n",
              "Crossing              float64\n",
              "Short_Pass            float64\n",
              "Long_Pass             float64\n",
              "Acceleration          float64\n",
              "Speed                 float64\n",
              "Stamina               float64\n",
              "Strength              float64\n",
              "Balance               float64\n",
              "Agility               float64\n",
              "Jumping               float64\n",
              "Heading               float64\n",
              "Shot_Power            float64\n",
              "Finishing             float64\n",
              "Long_Shots            float64\n",
              "Curve                 float64\n",
              "Freekick_Accuracy     float64\n",
              "Penalties             float64\n",
              "Volleys               float64\n",
              "GK_Positioning        float64\n",
              "GK_Diving             float64\n",
              "GK_Kicking            float64\n",
              "GK_Handling           float64\n",
              "GK_Reflexes           float64\n",
              "dtype: object"
            ]
          },
          "metadata": {
            "tags": []
          },
          "execution_count": 9
        }
      ]
    },
    {
      "cell_type": "markdown",
      "metadata": {
        "id": "Mtz1ObAckrWC",
        "colab_type": "text"
      },
      "source": [
        "To get a better idea of the problem, we can look at some of the datapoints of these columns (we used a random sampling of the data)"
      ]
    },
    {
      "cell_type": "code",
      "metadata": {
        "id": "1F2BbaxIkrE3",
        "colab_type": "code",
        "outputId": "e7ed064a-3e36-40a0-c04a-acc4bf262b55",
        "colab": {
          "base_uri": "https://localhost:8080/",
          "height": 355
        }
      },
      "source": [
        "df[['Weight', 'Height']].sample(n = 10)"
      ],
      "execution_count": 0,
      "outputs": [
        {
          "output_type": "execute_result",
          "data": {
            "text/html": [
              "<div>\n",
              "<style scoped>\n",
              "    .dataframe tbody tr th:only-of-type {\n",
              "        vertical-align: middle;\n",
              "    }\n",
              "\n",
              "    .dataframe tbody tr th {\n",
              "        vertical-align: top;\n",
              "    }\n",
              "\n",
              "    .dataframe thead th {\n",
              "        text-align: right;\n",
              "    }\n",
              "</style>\n",
              "<table border=\"1\" class=\"dataframe\">\n",
              "  <thead>\n",
              "    <tr style=\"text-align: right;\">\n",
              "      <th></th>\n",
              "      <th>Weight</th>\n",
              "      <th>Height</th>\n",
              "    </tr>\n",
              "  </thead>\n",
              "  <tbody>\n",
              "    <tr>\n",
              "      <th>15236</th>\n",
              "      <td>75 kg</td>\n",
              "      <td>184 cm</td>\n",
              "    </tr>\n",
              "    <tr>\n",
              "      <th>8876</th>\n",
              "      <td>80 kg</td>\n",
              "      <td>188 cm</td>\n",
              "    </tr>\n",
              "    <tr>\n",
              "      <th>704</th>\n",
              "      <td>83 kg</td>\n",
              "      <td>185 cm</td>\n",
              "    </tr>\n",
              "    <tr>\n",
              "      <th>8814</th>\n",
              "      <td>65 kg</td>\n",
              "      <td>179 cm</td>\n",
              "    </tr>\n",
              "    <tr>\n",
              "      <th>11166</th>\n",
              "      <td>68 kg</td>\n",
              "      <td>180 cm</td>\n",
              "    </tr>\n",
              "    <tr>\n",
              "      <th>2544</th>\n",
              "      <td>68 kg</td>\n",
              "      <td>175 cm</td>\n",
              "    </tr>\n",
              "    <tr>\n",
              "      <th>15008</th>\n",
              "      <td>79 kg</td>\n",
              "      <td>187 cm</td>\n",
              "    </tr>\n",
              "    <tr>\n",
              "      <th>17513</th>\n",
              "      <td>78 kg</td>\n",
              "      <td>183 cm</td>\n",
              "    </tr>\n",
              "    <tr>\n",
              "      <th>4574</th>\n",
              "      <td>79 kg</td>\n",
              "      <td>194 cm</td>\n",
              "    </tr>\n",
              "    <tr>\n",
              "      <th>3978</th>\n",
              "      <td>75 kg</td>\n",
              "      <td>186 cm</td>\n",
              "    </tr>\n",
              "  </tbody>\n",
              "</table>\n",
              "</div>"
            ],
            "text/plain": [
              "      Weight  Height\n",
              "15236  75 kg  184 cm\n",
              "8876   80 kg  188 cm\n",
              "704    83 kg  185 cm\n",
              "8814   65 kg  179 cm\n",
              "11166  68 kg  180 cm\n",
              "2544   68 kg  175 cm\n",
              "15008  79 kg  187 cm\n",
              "17513  78 kg  183 cm\n",
              "4574   79 kg  194 cm\n",
              "3978   75 kg  186 cm"
            ]
          },
          "metadata": {
            "tags": []
          },
          "execution_count": 10
        }
      ]
    },
    {
      "cell_type": "markdown",
      "metadata": {
        "id": "yBrAMDWKmtp-",
        "colab_type": "text"
      },
      "source": [
        "We now know that the reason they are not classified as numeric values is because it includes the unit.\n",
        "\n",
        "We can perform some transformations to get rid of the unit and convert the column to a numerical column."
      ]
    },
    {
      "cell_type": "code",
      "metadata": {
        "id": "_mS78dqDnSxZ",
        "colab_type": "code",
        "outputId": "7f6acb46-0ddd-40a1-d2b3-c6a18f9f9b37",
        "colab": {
          "base_uri": "https://localhost:8080/",
          "height": 491
        }
      },
      "source": [
        "df['Height'] = pd.to_numeric(df['Height'].str[:-3])\n",
        "df['Weight'] = pd.to_numeric(df['Weight'].str[:-3])\n"
      ],
      "execution_count": 0,
      "outputs": [
        {
          "output_type": "error",
          "ename": "ValueError",
          "evalue": "ignored",
          "traceback": [
            "\u001b[0;31m---------------------------------------------------------------------------\u001b[0m",
            "\u001b[0;31mValueError\u001b[0m                                Traceback (most recent call last)",
            "\u001b[0;32mpandas/_libs/lib.pyx\u001b[0m in \u001b[0;36mpandas._libs.lib.maybe_convert_numeric\u001b[0;34m()\u001b[0m\n",
            "\u001b[0;31mValueError\u001b[0m: Unable to parse string \"nan\"",
            "\nDuring handling of the above exception, another exception occurred:\n",
            "\u001b[0;31mValueError\u001b[0m                                Traceback (most recent call last)",
            "\u001b[0;32m<ipython-input-11-7f5dd1f1571a>\u001b[0m in \u001b[0;36m<module>\u001b[0;34m()\u001b[0m\n\u001b[0;32m----> 1\u001b[0;31m \u001b[0mdf\u001b[0m\u001b[0;34m[\u001b[0m\u001b[0;34m'Height'\u001b[0m\u001b[0;34m]\u001b[0m \u001b[0;34m=\u001b[0m \u001b[0mpd\u001b[0m\u001b[0;34m.\u001b[0m\u001b[0mto_numeric\u001b[0m\u001b[0;34m(\u001b[0m\u001b[0mdf\u001b[0m\u001b[0;34m[\u001b[0m\u001b[0;34m'Height'\u001b[0m\u001b[0;34m]\u001b[0m\u001b[0;34m.\u001b[0m\u001b[0mstr\u001b[0m\u001b[0;34m[\u001b[0m\u001b[0;34m:\u001b[0m\u001b[0;34m-\u001b[0m\u001b[0;36m3\u001b[0m\u001b[0;34m]\u001b[0m\u001b[0;34m)\u001b[0m\u001b[0;34m\u001b[0m\u001b[0;34m\u001b[0m\u001b[0m\n\u001b[0m\u001b[1;32m      2\u001b[0m \u001b[0mdf\u001b[0m\u001b[0;34m[\u001b[0m\u001b[0;34m'Weight'\u001b[0m\u001b[0;34m]\u001b[0m \u001b[0;34m=\u001b[0m \u001b[0mpd\u001b[0m\u001b[0;34m.\u001b[0m\u001b[0mto_numeric\u001b[0m\u001b[0;34m(\u001b[0m\u001b[0mdf\u001b[0m\u001b[0;34m[\u001b[0m\u001b[0;34m'Weight'\u001b[0m\u001b[0;34m]\u001b[0m\u001b[0;34m.\u001b[0m\u001b[0mstr\u001b[0m\u001b[0;34m[\u001b[0m\u001b[0;34m:\u001b[0m\u001b[0;34m-\u001b[0m\u001b[0;36m3\u001b[0m\u001b[0;34m]\u001b[0m\u001b[0;34m)\u001b[0m\u001b[0;34m\u001b[0m\u001b[0;34m\u001b[0m\u001b[0m\n",
            "\u001b[0;32m/usr/local/lib/python3.6/dist-packages/pandas/core/tools/numeric.py\u001b[0m in \u001b[0;36mto_numeric\u001b[0;34m(arg, errors, downcast)\u001b[0m\n\u001b[1;32m    133\u001b[0m             \u001b[0mcoerce_numeric\u001b[0m \u001b[0;34m=\u001b[0m \u001b[0;32mFalse\u001b[0m \u001b[0;32mif\u001b[0m \u001b[0merrors\u001b[0m \u001b[0;32min\u001b[0m \u001b[0;34m(\u001b[0m\u001b[0;34m'ignore'\u001b[0m\u001b[0;34m,\u001b[0m \u001b[0;34m'raise'\u001b[0m\u001b[0;34m)\u001b[0m \u001b[0;32melse\u001b[0m \u001b[0;32mTrue\u001b[0m\u001b[0;34m\u001b[0m\u001b[0;34m\u001b[0m\u001b[0m\n\u001b[1;32m    134\u001b[0m             values = lib.maybe_convert_numeric(values, set(),\n\u001b[0;32m--> 135\u001b[0;31m                                                coerce_numeric=coerce_numeric)\n\u001b[0m\u001b[1;32m    136\u001b[0m \u001b[0;34m\u001b[0m\u001b[0m\n\u001b[1;32m    137\u001b[0m     \u001b[0;32mexcept\u001b[0m \u001b[0mException\u001b[0m\u001b[0;34m:\u001b[0m\u001b[0;34m\u001b[0m\u001b[0;34m\u001b[0m\u001b[0m\n",
            "\u001b[0;32mpandas/_libs/lib.pyx\u001b[0m in \u001b[0;36mpandas._libs.lib.maybe_convert_numeric\u001b[0;34m()\u001b[0m\n",
            "\u001b[0;31mValueError\u001b[0m: Unable to parse string \"nan\" at position 538"
          ]
        }
      ]
    },
    {
      "cell_type": "markdown",
      "metadata": {
        "id": "1tJW0P_jppDx",
        "colab_type": "text"
      },
      "source": [
        "### 2.3 Dropping rows\n",
        "\n",
        "The above cell should fail, as some heights or weight are still unavailable (NaN).\n",
        "\n",
        "We can use pandas to drop the rows that have unavailable heights or weights"
      ]
    },
    {
      "cell_type": "code",
      "metadata": {
        "id": "2dEzJ2Ndpown",
        "colab_type": "code",
        "colab": {}
      },
      "source": [
        "# Drop rows with heights or weights that are unavailable\n",
        "df.dropna(subset = ['Weight', 'Height'], inplace = True)"
      ],
      "execution_count": 0,
      "outputs": []
    },
    {
      "cell_type": "code",
      "metadata": {
        "id": "vBsVSSRsqGnq",
        "colab_type": "code",
        "outputId": "70b989ed-5162-4510-9387-3e7b91e62091",
        "colab": {
          "base_uri": "https://localhost:8080/",
          "height": 355
        }
      },
      "source": [
        "# Convert the height and weight columns to numeric columns if they are of type object\n",
        "if df['Height'].dtype == object:\n",
        "  df['Height'] = pd.to_numeric(df['Height'].str[:-3])\n",
        "\n",
        "if df['Weight'].dtype == object:\n",
        "  df['Weight'] = pd.to_numeric(df['Weight'].str[:-3])\n",
        "\n",
        "  \n",
        "df[['Weight', 'Height']].sample(n = 10)"
      ],
      "execution_count": 0,
      "outputs": [
        {
          "output_type": "execute_result",
          "data": {
            "text/html": [
              "<div>\n",
              "<style scoped>\n",
              "    .dataframe tbody tr th:only-of-type {\n",
              "        vertical-align: middle;\n",
              "    }\n",
              "\n",
              "    .dataframe tbody tr th {\n",
              "        vertical-align: top;\n",
              "    }\n",
              "\n",
              "    .dataframe thead th {\n",
              "        text-align: right;\n",
              "    }\n",
              "</style>\n",
              "<table border=\"1\" class=\"dataframe\">\n",
              "  <thead>\n",
              "    <tr style=\"text-align: right;\">\n",
              "      <th></th>\n",
              "      <th>Weight</th>\n",
              "      <th>Height</th>\n",
              "    </tr>\n",
              "  </thead>\n",
              "  <tbody>\n",
              "    <tr>\n",
              "      <th>4652</th>\n",
              "      <td>73.0</td>\n",
              "      <td>184.0</td>\n",
              "    </tr>\n",
              "    <tr>\n",
              "      <th>1494</th>\n",
              "      <td>77.0</td>\n",
              "      <td>179.0</td>\n",
              "    </tr>\n",
              "    <tr>\n",
              "      <th>11830</th>\n",
              "      <td>75.0</td>\n",
              "      <td>181.0</td>\n",
              "    </tr>\n",
              "    <tr>\n",
              "      <th>7558</th>\n",
              "      <td>79.0</td>\n",
              "      <td>183.0</td>\n",
              "    </tr>\n",
              "    <tr>\n",
              "      <th>6761</th>\n",
              "      <td>63.0</td>\n",
              "      <td>174.0</td>\n",
              "    </tr>\n",
              "    <tr>\n",
              "      <th>5123</th>\n",
              "      <td>73.0</td>\n",
              "      <td>180.0</td>\n",
              "    </tr>\n",
              "    <tr>\n",
              "      <th>1405</th>\n",
              "      <td>79.0</td>\n",
              "      <td>184.0</td>\n",
              "    </tr>\n",
              "    <tr>\n",
              "      <th>17526</th>\n",
              "      <td>72.0</td>\n",
              "      <td>198.0</td>\n",
              "    </tr>\n",
              "    <tr>\n",
              "      <th>14705</th>\n",
              "      <td>66.0</td>\n",
              "      <td>175.0</td>\n",
              "    </tr>\n",
              "    <tr>\n",
              "      <th>17290</th>\n",
              "      <td>72.0</td>\n",
              "      <td>185.0</td>\n",
              "    </tr>\n",
              "  </tbody>\n",
              "</table>\n",
              "</div>"
            ],
            "text/plain": [
              "       Weight  Height\n",
              "4652     73.0   184.0\n",
              "1494     77.0   179.0\n",
              "11830    75.0   181.0\n",
              "7558     79.0   183.0\n",
              "6761     63.0   174.0\n",
              "5123     73.0   180.0\n",
              "1405     79.0   184.0\n",
              "17526    72.0   198.0\n",
              "14705    66.0   175.0\n",
              "17290    72.0   185.0"
            ]
          },
          "metadata": {
            "tags": []
          },
          "execution_count": 13
        }
      ]
    },
    {
      "cell_type": "markdown",
      "metadata": {
        "id": "ab6lq-Eoq-sH",
        "colab_type": "text"
      },
      "source": [
        "We can now view the distribution of the data for the height and weight"
      ]
    },
    {
      "cell_type": "code",
      "metadata": {
        "id": "n1Ryv_YhiZuM",
        "colab_type": "code",
        "outputId": "c3cf635b-49c0-4967-9cce-281079ddb359",
        "colab": {
          "base_uri": "https://localhost:8080/",
          "height": 288
        }
      },
      "source": [
        "df['Height'].hist(bins = 20)"
      ],
      "execution_count": 0,
      "outputs": [
        {
          "output_type": "execute_result",
          "data": {
            "text/plain": [
              "<matplotlib.axes._subplots.AxesSubplot at 0x7ffa725e6438>"
            ]
          },
          "metadata": {
            "tags": []
          },
          "execution_count": 14
        },
        {
          "output_type": "display_data",
          "data": {
            "image/png": "[encoded data removed]",
            "text/plain": [
              "<Figure size 432x288 with 1 Axes>"
            ]
          },
          "metadata": {
            "tags": []
          }
        }
      ]
    },
    {
      "cell_type": "code",
      "metadata": {
        "id": "j0gfUkDER4f7",
        "colab_type": "code",
        "outputId": "3b63a60a-1b68-43e7-ba77-371c15bf9427",
        "colab": {
          "base_uri": "https://localhost:8080/",
          "height": 288
        }
      },
      "source": [
        "df['Weight'].hist(bins = 20)"
      ],
      "execution_count": 0,
      "outputs": [
        {
          "output_type": "execute_result",
          "data": {
            "text/plain": [
              "<matplotlib.axes._subplots.AxesSubplot at 0x7ffa725c54e0>"
            ]
          },
          "metadata": {
            "tags": []
          },
          "execution_count": 15
        },
        {
          "output_type": "display_data",
          "data": {
            "image/png": "[encoded data removed]",
            "text/plain": [
              "<Figure size 432x288 with 1 Axes>"
            ]
          },
          "metadata": {
            "tags": []
          }
        }
      ]
    },
    {
      "cell_type": "markdown",
      "metadata": {
        "id": "o98tSmbdrkqR",
        "colab_type": "text"
      },
      "source": [
        "We observe that some of the data does not make sense.\n",
        "\n",
        "1. a player cannot have a negative weight\n",
        "2. a player cannot have a negative height\n",
        "3. some players are way too light/heavy\n",
        "4. some players are way too tall/short\n",
        "\n",
        "We can keep the rows with players over 50kg and under 160kg and keep the players over 100 cm and under 220 cm"
      ]
    },
    {
      "cell_type": "code",
      "metadata": {
        "id": "0Dfyrg6psADp",
        "colab_type": "code",
        "outputId": "526e7a82-c7d2-49ef-8ba4-cd63a2037626",
        "colab": {
          "base_uri": "https://localhost:8080/",
          "height": 355
        }
      },
      "source": [
        "df = df[(df['Weight'] > 50) & (df['Weight'] < 160)]\n",
        "df = df[(df['Height'] > 100) & (df['Height'] < 220)]\n",
        "\n",
        "df[['Weight', 'Height']].sample(n = 10)"
      ],
      "execution_count": 0,
      "outputs": [
        {
          "output_type": "execute_result",
          "data": {
            "text/html": [
              "<div>\n",
              "<style scoped>\n",
              "    .dataframe tbody tr th:only-of-type {\n",
              "        vertical-align: middle;\n",
              "    }\n",
              "\n",
              "    .dataframe tbody tr th {\n",
              "        vertical-align: top;\n",
              "    }\n",
              "\n",
              "    .dataframe thead th {\n",
              "        text-align: right;\n",
              "    }\n",
              "</style>\n",
              "<table border=\"1\" class=\"dataframe\">\n",
              "  <thead>\n",
              "    <tr style=\"text-align: right;\">\n",
              "      <th></th>\n",
              "      <th>Weight</th>\n",
              "      <th>Height</th>\n",
              "    </tr>\n",
              "  </thead>\n",
              "  <tbody>\n",
              "    <tr>\n",
              "      <th>4533</th>\n",
              "      <td>83.0</td>\n",
              "      <td>182.0</td>\n",
              "    </tr>\n",
              "    <tr>\n",
              "      <th>16086</th>\n",
              "      <td>68.0</td>\n",
              "      <td>179.0</td>\n",
              "    </tr>\n",
              "    <tr>\n",
              "      <th>11685</th>\n",
              "      <td>75.0</td>\n",
              "      <td>185.0</td>\n",
              "    </tr>\n",
              "    <tr>\n",
              "      <th>1948</th>\n",
              "      <td>85.0</td>\n",
              "      <td>186.0</td>\n",
              "    </tr>\n",
              "    <tr>\n",
              "      <th>8057</th>\n",
              "      <td>77.0</td>\n",
              "      <td>178.0</td>\n",
              "    </tr>\n",
              "    <tr>\n",
              "      <th>14345</th>\n",
              "      <td>82.0</td>\n",
              "      <td>182.0</td>\n",
              "    </tr>\n",
              "    <tr>\n",
              "      <th>752</th>\n",
              "      <td>72.0</td>\n",
              "      <td>178.0</td>\n",
              "    </tr>\n",
              "    <tr>\n",
              "      <th>1776</th>\n",
              "      <td>76.0</td>\n",
              "      <td>185.0</td>\n",
              "    </tr>\n",
              "    <tr>\n",
              "      <th>16338</th>\n",
              "      <td>79.0</td>\n",
              "      <td>185.0</td>\n",
              "    </tr>\n",
              "    <tr>\n",
              "      <th>515</th>\n",
              "      <td>70.0</td>\n",
              "      <td>176.0</td>\n",
              "    </tr>\n",
              "  </tbody>\n",
              "</table>\n",
              "</div>"
            ],
            "text/plain": [
              "       Weight  Height\n",
              "4533     83.0   182.0\n",
              "16086    68.0   179.0\n",
              "11685    75.0   185.0\n",
              "1948     85.0   186.0\n",
              "8057     77.0   178.0\n",
              "14345    82.0   182.0\n",
              "752      72.0   178.0\n",
              "1776     76.0   185.0\n",
              "16338    79.0   185.0\n",
              "515      70.0   176.0"
            ]
          },
          "metadata": {
            "tags": []
          },
          "execution_count": 16
        }
      ]
    },
    {
      "cell_type": "code",
      "metadata": {
        "colab_type": "code",
        "id": "l5oVqyXWUgfy",
        "outputId": "6ad5cc5a-d2e8-478f-b38d-7c008025190b",
        "colab": {
          "base_uri": "https://localhost:8080/",
          "height": 288
        }
      },
      "source": [
        "df['Height'].hist(bins = 20)"
      ],
      "execution_count": 0,
      "outputs": [
        {
          "output_type": "execute_result",
          "data": {
            "text/plain": [
              "<matplotlib.axes._subplots.AxesSubplot at 0x7ffa725e6a58>"
            ]
          },
          "metadata": {
            "tags": []
          },
          "execution_count": 17
        },
        {
          "output_type": "display_data",
          "data": {
            "image/png": "[encoded data removed]",
            "text/plain": [
              "<Figure size 432x288 with 1 Axes>"
            ]
          },
          "metadata": {
            "tags": []
          }
        }
      ]
    },
    {
      "cell_type": "code",
      "metadata": {
        "id": "1cgmpDAkUtQk",
        "colab_type": "code",
        "outputId": "5286b2a8-7ee2-4966-acdf-d01d88cb4699",
        "colab": {
          "base_uri": "https://localhost:8080/",
          "height": 288
        }
      },
      "source": [
        "df['Weight'].hist(bins=20)"
      ],
      "execution_count": 0,
      "outputs": [
        {
          "output_type": "execute_result",
          "data": {
            "text/plain": [
              "<matplotlib.axes._subplots.AxesSubplot at 0x7ffa7249da90>"
            ]
          },
          "metadata": {
            "tags": []
          },
          "execution_count": 18
        },
        {
          "output_type": "display_data",
          "data": {
            "image/png": "[encoded data removed]",
            "text/plain": [
              "<Figure size 432x288 with 1 Axes>"
            ]
          },
          "metadata": {
            "tags": []
          }
        }
      ]
    },
    {
      "cell_type": "markdown",
      "metadata": {
        "id": "dRo4H2OvZodF",
        "colab_type": "text"
      },
      "source": [
        "### 2.4  Looking at correlated features"
      ]
    },
    {
      "cell_type": "markdown",
      "metadata": {
        "id": "MVunmw_PVPxI",
        "colab_type": "text"
      },
      "source": [
        "Now, we can look at weights and heights together.\n"
      ]
    },
    {
      "cell_type": "code",
      "metadata": {
        "id": "nG3-6CNhVY_j",
        "colab_type": "code",
        "outputId": "51cbe1f9-b8e2-4e83-b5f5-fc6d1e972401",
        "colab": {
          "base_uri": "https://localhost:8080/",
          "height": 302
        }
      },
      "source": [
        "df.plot.scatter(x='Weight', y='Height')"
      ],
      "execution_count": 0,
      "outputs": [
        {
          "output_type": "execute_result",
          "data": {
            "text/plain": [
              "<matplotlib.axes._subplots.AxesSubplot at 0x7ffa725ea400>"
            ]
          },
          "metadata": {
            "tags": []
          },
          "execution_count": 19
        },
        {
          "output_type": "display_data",
          "data": {
            "image/png": "[encoded data removed]",
            "text/plain": [
              "<Figure size 432x288 with 1 Axes>"
            ]
          },
          "metadata": {
            "tags": []
          }
        }
      ]
    },
    {
      "cell_type": "markdown",
      "metadata": {
        "id": "NToMEFwAVxVy",
        "colab_type": "text"
      },
      "source": [
        "Let's see how correlated the weights and the heights are."
      ]
    },
    {
      "cell_type": "code",
      "metadata": {
        "id": "5P7RcYjqV2MS",
        "colab_type": "code",
        "outputId": "2cd317e2-9d07-47ca-c19b-164fcec2dcbc",
        "colab": {
          "base_uri": "https://localhost:8080/",
          "height": 36
        }
      },
      "source": [
        "X = df['Weight'].to_numpy().reshape(-1, 1)\n",
        "y = df['Height'].to_numpy()\n",
        "model = LinearRegression()\n",
        "model.fit(X, y)\n",
        "print(r2_score(y, model.predict(X)))"
      ],
      "execution_count": 0,
      "outputs": [
        {
          "output_type": "stream",
          "text": [
            "0.5747410554924008\n"
          ],
          "name": "stdout"
        }
      ]
    },
    {
      "cell_type": "markdown",
      "metadata": {
        "id": "p5SLJxUVXjBx",
        "colab_type": "text"
      },
      "source": [
        "There is some correlation but it is weak. Let's look at true vs predictions."
      ]
    },
    {
      "cell_type": "code",
      "metadata": {
        "id": "a30L7-kJXrtB",
        "colab_type": "code",
        "outputId": "59ee8943-4ccd-4959-aa82-3bbbaf1516b9",
        "colab": {
          "base_uri": "https://localhost:8080/",
          "height": 302
        }
      },
      "source": [
        "plt.figure()\n",
        "plt.plot(model.predict(X), y, '.')\n",
        "plt.plot([np.min(y), np.max(y)], [np.min(y), np.max(y)], 'k')\n",
        "plt.xlabel('Predicted Height')\n",
        "plt.ylabel('True Height')\n"
      ],
      "execution_count": 0,
      "outputs": [
        {
          "output_type": "execute_result",
          "data": {
            "text/plain": [
              "Text(0, 0.5, 'True Height')"
            ]
          },
          "metadata": {
            "tags": []
          },
          "execution_count": 21
        },
        {
          "output_type": "display_data",
          "data": {
            "image/png": "[encoded data removed]",
            "text/plain": [
              "<Figure size 432x288 with 1 Axes>"
            ]
          },
          "metadata": {
            "tags": []
          }
        }
      ]
    },
    {
      "cell_type": "markdown",
      "metadata": {
        "id": "70Q7ZxIhNELr",
        "colab_type": "text"
      },
      "source": [
        "Let's try to predict the rating given the weight and the height"
      ]
    },
    {
      "cell_type": "code",
      "metadata": {
        "colab_type": "code",
        "id": "BvdS29SNaD5Y",
        "outputId": "3534d544-199e-4550-f143-e466455a3b2b",
        "colab": {
          "base_uri": "https://localhost:8080/",
          "height": 36
        }
      },
      "source": [
        "X = df[['Weight', 'Height', 'Age', 'Speed', 'Dribbling']].to_numpy()\n",
        "y = df['Rating'].to_numpy()\n",
        "\n",
        "model = LinearRegression()\n",
        "model.fit(X, y)\n",
        "\n",
        "print(r2_score(y, model.predict(X)))"
      ],
      "execution_count": 0,
      "outputs": [
        {
          "output_type": "stream",
          "text": [
            "0.40399410203818065\n"
          ],
          "name": "stdout"
        }
      ]
    },
    {
      "cell_type": "markdown",
      "metadata": {
        "id": "bi2ACYJNNn5m",
        "colab_type": "text"
      },
      "source": [
        "As we can see, our model fails to predict the rating given only the weight and the height."
      ]
    },
    {
      "cell_type": "code",
      "metadata": {
        "id": "am-as1PNRO0U",
        "colab_type": "code",
        "outputId": "082d86d0-91e5-43a0-9788-61600af21028",
        "colab": {
          "base_uri": "https://localhost:8080/",
          "height": 302
        }
      },
      "source": [
        "plt.plot(model.predict(X), y, \".\")\n",
        "plt.plot([np.min(y), np.max(y)], [np.min(y), np.max(y)], 'k')\n",
        "plt.xlabel('Predicted rating')\n",
        "plt.ylabel('True rating')"
      ],
      "execution_count": 0,
      "outputs": [
        {
          "output_type": "execute_result",
          "data": {
            "text/plain": [
              "Text(0, 0.5, 'True rating')"
            ]
          },
          "metadata": {
            "tags": []
          },
          "execution_count": 23
        },
        {
          "output_type": "display_data",
          "data": {
            "image/png": "[encoded data removed]",
            "text/plain": [
              "<Figure size 432x288 with 1 Axes>"
            ]
          },
          "metadata": {
            "tags": []
          }
        }
      ]
    },
    {
      "cell_type": "markdown",
      "metadata": {
        "id": "fMyFk3IiOiZT",
        "colab_type": "text"
      },
      "source": [
        "Not very good... now let's see if some preprocessing can change this"
      ]
    },
    {
      "cell_type": "markdown",
      "metadata": {
        "id": "zRArjflKNVDh",
        "colab_type": "text"
      },
      "source": [
        "## 3. Data Transformations\n",
        "\n"
      ]
    },
    {
      "cell_type": "markdown",
      "metadata": {
        "id": "IQyz2zpXOq99",
        "colab_type": "text"
      },
      "source": [
        "### 3.1 Min-Max Normalization"
      ]
    },
    {
      "cell_type": "markdown",
      "metadata": {
        "id": "JyMySwLRe5Lo",
        "colab_type": "text"
      },
      "source": [
        "Let's use the sklearn `MinMaxScaler`."
      ]
    },
    {
      "cell_type": "code",
      "metadata": {
        "id": "toQZJY9QOnbD",
        "colab_type": "code",
        "colab": {}
      },
      "source": [
        "scaler_X = MinMaxScaler(feature_range=(-1, 1))\n",
        "X = scaler_X.fit_transform(X)\n",
        "\n",
        "scaler_y = MinMaxScaler(feature_range=(-1, 1))\n",
        "y = scaler_y.fit_transform(y.reshape((-1, 1))).reshape((-1,))"
      ],
      "execution_count": 0,
      "outputs": []
    },
    {
      "cell_type": "markdown",
      "metadata": {
        "id": "AYUCD6aQfv2y",
        "colab_type": "text"
      },
      "source": [
        "Let's create a model on the scaled data"
      ]
    },
    {
      "cell_type": "code",
      "metadata": {
        "id": "P3imbaJCfwPB",
        "colab_type": "code",
        "outputId": "285b1377-0d10-4454-c43f-3240b37c4d10",
        "colab": {
          "base_uri": "https://localhost:8080/",
          "height": 36
        }
      },
      "source": [
        "model = LinearRegression()\n",
        "model.fit(X, y)\n",
        "print(r2_score(y, model.predict(X)))"
      ],
      "execution_count": 0,
      "outputs": [
        {
          "output_type": "stream",
          "text": [
            "0.40399410203818065\n"
          ],
          "name": "stdout"
        }
      ]
    },
    {
      "cell_type": "code",
      "metadata": {
        "id": "T3uUo9rHRcvf",
        "colab_type": "code",
        "outputId": "0c17bb55-59ec-4738-894d-481a1c716665",
        "colab": {
          "base_uri": "https://localhost:8080/",
          "height": 302
        }
      },
      "source": [
        "plt.plot(model.predict(X), y , \".\")\n",
        "plt.plot([-1, 1], [-1, 1], 'k')\n",
        "plt.xlabel('Predicted rating')\n",
        "plt.ylabel('True rating')"
      ],
      "execution_count": 0,
      "outputs": [
        {
          "output_type": "execute_result",
          "data": {
            "text/plain": [
              "Text(0, 0.5, 'True rating')"
            ]
          },
          "metadata": {
            "tags": []
          },
          "execution_count": 26
        },
        {
          "output_type": "display_data",
          "data": {
            "image/png": "[encoded data removed]",
            "text/plain": [
              "<Figure size 432x288 with 1 Axes>"
            ]
          },
          "metadata": {
            "tags": []
          }
        }
      ]
    },
    {
      "cell_type": "markdown",
      "metadata": {
        "id": "yYTch-zLJId-",
        "colab_type": "text"
      },
      "source": [
        "We get the same score as before!\n",
        "\n",
        "This is because linear regression is invariant to scaling...\n",
        "\n",
        "However, now we can add non-linearity to the model since the values have been scaled!"
      ]
    },
    {
      "cell_type": "markdown",
      "metadata": {
        "id": "UDxz6OCwJTiR",
        "colab_type": "text"
      },
      "source": [
        "### 3.2 Adding Features"
      ]
    },
    {
      "cell_type": "markdown",
      "metadata": {
        "id": "JGEx1oJYQ9yj",
        "colab_type": "text"
      },
      "source": [
        "Let's add degree 2 features to our model"
      ]
    },
    {
      "cell_type": "code",
      "metadata": {
        "id": "PRQAUVFXJSrv",
        "colab_type": "code",
        "outputId": "8f110779-b00c-4e41-c98c-749d7f71bd89",
        "colab": {
          "base_uri": "https://localhost:8080/",
          "height": 55
        }
      },
      "source": [
        "poly = PolynomialFeatures(2)\n",
        "X_poly = poly.fit_transform(X)\n",
        "print(X_poly.shape)\n",
        "\n",
        "model = LinearRegression()\n",
        "model.fit(X_poly, y)\n",
        "\n",
        "print(r2_score(y, model.predict(X_poly)))"
      ],
      "execution_count": 0,
      "outputs": [
        {
          "output_type": "stream",
          "text": [
            "(15636, 21)\n",
            "0.5699252508606591\n"
          ],
          "name": "stdout"
        }
      ]
    },
    {
      "cell_type": "code",
      "metadata": {
        "id": "VjMqKm5WjELD",
        "colab_type": "code",
        "outputId": "bf05ae15-3eeb-4315-d6e1-66aa965ecb11",
        "colab": {
          "base_uri": "https://localhost:8080/",
          "height": 302
        }
      },
      "source": [
        "plt.plot(model.predict(X_poly), y , \".\")\n",
        "plt.plot([-1, 1], [-1, 1], 'k')\n",
        "plt.xlabel('Predicted rating')\n",
        "plt.ylabel('True rating')"
      ],
      "execution_count": 0,
      "outputs": [
        {
          "output_type": "execute_result",
          "data": {
            "text/plain": [
              "Text(0, 0.5, 'True rating')"
            ]
          },
          "metadata": {
            "tags": []
          },
          "execution_count": 28
        },
        {
          "output_type": "display_data",
          "data": {
            "image/png": "[encoded data removed]",
            "text/plain": [
              "<Figure size 432x288 with 1 Axes>"
            ]
          },
          "metadata": {
            "tags": []
          }
        }
      ]
    }
  ]
}